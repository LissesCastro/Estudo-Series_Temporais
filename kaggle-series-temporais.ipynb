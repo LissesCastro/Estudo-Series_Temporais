{
 "cells": [
  {
   "cell_type": "code",
   "execution_count": 11,
   "metadata": {},
   "outputs": [],
   "source": [
    "import pandas as pd\n",
    "import matplotlib.pyplot as plt\n",
    "import numpy as np\n",
    "import seaborn as sns\n",
    "from sklearn.linear_model import LinearRegression"
   ]
  },
  {
   "cell_type": "code",
   "execution_count": 12,
   "metadata": {},
   "outputs": [],
   "source": [
    "sales = pd.read_csv('train.csv', index_col='date', parse_dates=['date'])"
   ]
  },
  {
   "cell_type": "code",
   "execution_count": 19,
   "metadata": {},
   "outputs": [
    {
     "name": "stderr",
     "output_type": "stream",
     "text": [
      "C:\\Users\\Pichau\\AppData\\Local\\Temp\\ipykernel_1492\\1299529400.py:3: FutureWarning: The default value of numeric_only in DataFrameGroupBy.sum is deprecated. In a future version, numeric_only will default to False. Either specify numeric_only or select only columns which should be valid for the function.\n",
      "  book_sales = book_sales.groupby(book_sales.index).sum() #Agraupand os valores de venda por dia\n"
     ]
    }
   ],
   "source": [
    "book_sales = sales[sales['family'] == 'BOOKS'] #Filtrando apenas livros\n",
    "book_sales.index = book_sales.index.to_period(\"D\") #Cobsiderando o index pelo dia\n",
    "book_sales = book_sales.groupby(book_sales.index).sum() #Agraupand os valores de venda por dia\n",
    "book_sales = book_sales.drop(['id', 'store_nbr'], axis=1)\n",
    "book_sales['time'] = np.arange(len(book_sales.index)) #Cria uma nova coluna 'time', com a marcação do tempoem em ordem cronológica: 1, 2, 3, 4, etc.\n",
    "book_sales['lag_1'] = book_sales['sales'].shift(1) # Cria um lag temporal de 1 período, nesse caso, 1 dia"
   ]
  }
 ],
 "metadata": {
  "kernelspec": {
   "display_name": "Python 3",
   "language": "python",
   "name": "python3"
  },
  "language_info": {
   "codemirror_mode": {
    "name": "ipython",
    "version": 3
   },
   "file_extension": ".py",
   "mimetype": "text/x-python",
   "name": "python",
   "nbconvert_exporter": "python",
   "pygments_lexer": "ipython3",
   "version": "3.10.11"
  },
  "orig_nbformat": 4
 },
 "nbformat": 4,
 "nbformat_minor": 2
}
